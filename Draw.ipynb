{
 "cells": [
  {
   "cell_type": "code",
   "execution_count": 10,
   "id": "42a5a6dc-6eb9-4469-85c0-9e63b8d543ba",
   "metadata": {},
   "outputs": [],
   "source": [
    "import pandas as pd\n",
    "import numpy as np\n",
    "from sklearn.svm import SVC\n",
    "from sklearn.tree import DecisionTreeClassifier\n",
    "from sklearn.ensemble import RandomForestClassifier\n",
    "from sklearn.model_selection import KFold\n",
    "import sklearn.metrics as metrics\n",
    "from glob import glob\n",
    "import tensorflow as tf\n",
    "from tensorflow.keras import layers\n",
    "from tensorflow.keras.models import Model\n",
    "from tensorflow.keras.optimizers import Adam\n",
    "import tensorflow.keras.backend as K"
   ]
  },
  {
   "cell_type": "code",
   "execution_count": 11,
   "id": "2d6698e6-f8ed-4e4f-b2ab-d5b151e642cf",
   "metadata": {},
   "outputs": [],
   "source": [
    "def buildModule(inputShape):\n",
    "    drop_out_rate = 0.5\n",
    "    inputLayer = layers.Input(shape = inputShape)\n",
    "    \n",
    "    x = layers.Conv1D(128,3, activation = 'relu')(inputLayer)\n",
    "    x = layers.BatchNormalization()(x)\n",
    "    x = layers.Dropout(0.5)(x)\n",
    "    x = layers.Conv1D(64,3, activation = 'relu')(x)\n",
    "    x = layers.BatchNormalization()(x)\n",
    "    x = layers.Dropout(0.5)(x)\n",
    "    x = layers.Conv1D(32,3, activation = 'relu')(x)\n",
    "    x = layers.BatchNormalization()(x)\n",
    "    x = layers.Dropout(0.5)(x)\n",
    "    # x = layers.GlobalMaxPooling1D()(x)\n",
    "    x = layers.Flatten()(x)\n",
    "    \n",
    "    x = layers.Dense(128, activation = 'relu')(x)\n",
    "    x = layers.Dropout(0.5)(x)\n",
    "    x = layers.Dense(1, activation = 'sigmoid')(x)\n",
    "\n",
    "    model = Model(inputLayer, x)\n",
    "    # optimizer = tf.keras.optimizers.Adam()\n",
    "    METRICS = [\n",
    "      tf.keras.metrics.AUC(name='prc', curve='PR'), # precision-recall curve\n",
    "    ]\n",
    "    model.compile(optimizer='adam', loss=tf.keras.losses.BinaryCrossentropy(), metrics=METRICS)\n",
    "\n",
    "    return model"
   ]
  },
  {
   "cell_type": "code",
   "execution_count": 12,
   "id": "dc7809c3-616d-49d9-a847-409ae286d059",
   "metadata": {},
   "outputs": [],
   "source": [
    "rootDirData = 'data/'\n",
    "rootDirSaveReper = 'Res/Draw/drugReper/'\n",
    "rootDirSaveLabel = 'Res/Draw/label/'\n",
    "rootDirSaveMes = 'Res/Draw/mes/'\n",
    "# rootDir = ''\n",
    "files = {\n",
    "    'intractionMatrix':'intraction_matrix.csv',\n",
    "    'virusSim':'virus_sim.csv',\n",
    "    'drugSim':'drug_sim.csv',\n",
    "}"
   ]
  },
  {
   "cell_type": "code",
   "execution_count": 13,
   "id": "26952e5a-d79d-4506-8d14-9f080d5197a7",
   "metadata": {},
   "outputs": [],
   "source": [
    "intractionMatrix = pd.read_csv(rootDirData + files['intractionMatrix'], delimiter = ',', header=None, encoding='cp1252').to_numpy()\n",
    "drugNames = intractionMatrix[0, 1:]\n",
    "virusNames = intractionMatrix[1:, 0]\n",
    "drugNames.shape, virusNames.shape\n",
    "intractionMatrix = intractionMatrix[1:, 1:]"
   ]
  },
  {
   "cell_type": "code",
   "execution_count": 14,
   "id": "a13bff57-c0bf-4305-b399-dd87ba19184a",
   "metadata": {},
   "outputs": [
    {
     "data": {
      "text/plain": [
       "(100, 100)"
      ]
     },
     "execution_count": 14,
     "metadata": {},
     "output_type": "execute_result"
    }
   ],
   "source": [
    "virusSim = pd.read_csv(rootDirData + files['virusSim'], delimiter = ',', header=None, encoding='cp1252').to_numpy()\n",
    "virusSim = virusSim[1:, 1:]\n",
    "virusSim = virusSim.astype(float)\n",
    "virusSim.shape"
   ]
  },
  {
   "cell_type": "code",
   "execution_count": 15,
   "id": "cb772137-c028-4e6d-b9f6-0ba6bd068ecb",
   "metadata": {},
   "outputs": [
    {
     "data": {
      "text/plain": [
       "(198, 198)"
      ]
     },
     "execution_count": 15,
     "metadata": {},
     "output_type": "execute_result"
    }
   ],
   "source": [
    "drugSim = pd.read_csv(rootDirData + files['drugSim'], delimiter = ',', header=None, encoding='cp1252').to_numpy()\n",
    "drugSim = drugSim[1:, 1:]\n",
    "drugSim = drugSim.astype(float)\n",
    "drugSim.shape"
   ]
  },
  {
   "cell_type": "code",
   "execution_count": 16,
   "id": "a1811d21-d722-4ad0-884f-b6a631a730d9",
   "metadata": {},
   "outputs": [
    {
     "data": {
      "text/plain": [
       "(198, 298, 1)"
      ]
     },
     "execution_count": 16,
     "metadata": {},
     "output_type": "execute_result"
    }
   ],
   "source": [
    "samples = []\n",
    "for i in range(len(drugSim)):\n",
    "    samples.append(np.concatenate(\n",
    "            (\n",
    "                virusSim[-1], drugSim[i]\n",
    "            )\n",
    "        )\n",
    "    )\n",
    "samples = np.array(samples)\n",
    "samples = np.expand_dims(samples, axis = -1)\n",
    "samples.shape"
   ]
  },
  {
   "cell_type": "code",
   "execution_count": 17,
   "id": "bf87e962-d5f0-4de1-92f4-d46baac19e43",
   "metadata": {},
   "outputs": [
    {
     "data": {
      "text/plain": [
       "((19404, 298), (19404,), (19404, 2))"
      ]
     },
     "execution_count": 17,
     "metadata": {},
     "output_type": "execute_result"
    }
   ],
   "source": [
    "drugNamesSet = {}\n",
    "for dn in drugNames:\n",
    "    drugNamesSet[dn] = []\n",
    "\n",
    "Y = []\n",
    "X = []\n",
    "Z = []\n",
    "for i in range(len(virusSim)-2):\n",
    "    for j in range(len(drugSim)):\n",
    "        Y.append(\n",
    "            intractionMatrix[i, j]\n",
    "        )\n",
    "        \n",
    "        Z.append(\n",
    "            [\n",
    "                virusNames[i], drugNames[j]\n",
    "            ]\n",
    "        )\n",
    "        \n",
    "        X.append(\n",
    "            np.concatenate(\n",
    "                (\n",
    "                    virusSim[i], drugSim[j]\n",
    "                )\n",
    "            )\n",
    "        )\n",
    "\n",
    "X = np.array(X).astype(float)\n",
    "Y = np.array(Y).astype(float)\n",
    "Z = np.array(Z)\n",
    "rndIndex = np.random.choice(len(X), len(X), replace = False)\n",
    "X = X[rndIndex]\n",
    "Y = Y[rndIndex]\n",
    "Z = Z[rndIndex]\n",
    "X.shape, Y.shape, Z.shape"
   ]
  },
  {
   "cell_type": "code",
   "execution_count": 18,
   "id": "2828bb4c-48ec-41e5-b613-895af671e8d5",
   "metadata": {},
   "outputs": [],
   "source": [
    "def calcMes(y_true, y_pred, fixedThreshold):\n",
    "    optimal_threshold = 0\n",
    "    fpr, tpr, thresholds = metrics.roc_curve(y_true, y_pred)\n",
    "    auc = metrics.auc(fpr, tpr)\n",
    "\n",
    "    precision, recall, thresholds = metrics.precision_recall_curve(y_true, y_pred)\n",
    "    aupr = metrics.auc(recall, precision)\n",
    "    y_predTemp = np.zeros(\n",
    "        (\n",
    "            len(y_pred),\n",
    "        )\n",
    "    )\n",
    "    \n",
    "    \n",
    "\n",
    "\n",
    "    if fixedThreshold:\n",
    "        y_predTemp[np.where(y_pred >= 0.5)] = 1\n",
    "    else:\n",
    "        # gmeans = np.sqrt(tpr * (1-fpr))\n",
    "        # ix = np.argmax(gmeans)\n",
    "        # gmeansMax = gmeans[ix]\n",
    "        # gmeansTR = thresholds[ix]\n",
    "        # print(\"gmeansTR:\", gmeansTR, gmeansMax, ix)\n",
    "        f1_scores = (2 * precision * recall) / (precision + recall)\n",
    "        optimal_threshold = thresholds[np.argmax(f1_scores)]\n",
    "        y_predTemp[np.where(y_pred >= optimal_threshold)] = 1\n",
    "\n",
    "    f1 = metrics.f1_score(y_true, y_predTemp)\n",
    "    pre = metrics.precision_score(y_true, y_predTemp)\n",
    "    rec = metrics.recall_score(y_true, y_predTemp)\n",
    "\n",
    "    tn, fp, fn, tp = metrics.confusion_matrix(y_true, y_predTemp).ravel()\n",
    "    specificity = tn / (tn+fp)\n",
    "    mcc = metrics.matthews_corrcoef(y_true, y_predTemp)\n",
    "    acc = metrics.accuracy_score(y_true, y_predTemp)\n",
    "\n",
    "    mesList = [\n",
    "            specificity, rec, pre, acc, f1, mcc, auc, aupr\n",
    "    ]\n",
    "\n",
    "    return mesList, optimal_threshold\n",
    "    "
   ]
  },
  {
   "cell_type": "code",
   "execution_count": 9,
   "id": "ba461aa3-a7ba-4758-89e7-b4234a454c2a",
   "metadata": {
    "scrolled": true
   },
   "outputs": [
    {
     "name": "stdout",
     "output_type": "stream",
     "text": [
      "Set-Fold:  0 1\n"
     ]
    },
    {
     "name": "stderr",
     "output_type": "stream",
     "text": [
      "\n",
      "KeyboardInterrupt\n",
      "\n"
     ]
    }
   ],
   "source": [
    "mesListFixed = [\n",
    "    [\"Set\", \"Fold\", \"Specificity\", \"Recall\", \"Precision\", \"Accuracy\", \"F1\", \"MCC\", \"AUC\", \"AUPR\"]\n",
    "]\n",
    "mesListFloating = [\n",
    "    [\"Set\", \"Fold\", \"Specificity\", \"Recall\", \"Precision\", \"Accuracy\", \"F1\", \"MCC\", \"AUC\", \"AUPR\", \"TR\"]\n",
    "]\n",
    "\n",
    "for SeT in range(10):\n",
    "    rndIndex = np.random.choice(len(X), len(X), replace = False)\n",
    "    X = X[rndIndex]\n",
    "    Y = Y[rndIndex]\n",
    "    kf = KFold(n_splits=5)\n",
    "    foldCounter = 1\n",
    "    for train_index, test_index in kf.split(X):\n",
    "        print(\"Set-Fold: \", SeT, foldCounter)\n",
    "        x_train, x_test = X[train_index], X[test_index]\n",
    "        y_train, y_test = Y[train_index], Y[test_index]\n",
    "\n",
    "        x_train = np.expand_dims(x_train, axis = -1)\n",
    "        x_test = np.expand_dims(x_test, axis = -1)\n",
    "\n",
    "        checkpoint_filepath = '/tmp/checkpoint/' +str(SeT) +'_'+ str(foldCounter)\n",
    "        model_checkpoint_callback = tf.keras.callbacks.ModelCheckpoint(\n",
    "            filepath=checkpoint_filepath,\n",
    "            save_weights_only=True,\n",
    "            monitor='val_prc',\n",
    "            mode='max',\n",
    "            save_best_only=True)\n",
    "        \n",
    "        model = buildModule(x_train[0].shape)\n",
    "        model.fit(x_train, y_train, epochs = 1, batch_size = 128\n",
    "        ,validation_data=(x_test,y_test), verbose = 1, callbacks=[model_checkpoint_callback, tf.keras.callbacks.EarlyStopping(monitor='val_prc', patience=100)])\n",
    "\n",
    "        model.load_weights(checkpoint_filepath)\n",
    "\n",
    "        y_pred = model.predict(x_test)\n",
    "        y_pred = y_pred[:,0]\n",
    "\n",
    "        np.savetxt(rootDirSaveLabel + str(SeT) + '_' + str(foldCounter) + '_gt.csv', y_test, delimiter=',')\n",
    "        np.savetxt(rootDirSaveLabel + str(SeT) + '_' + str(foldCounter) + '_pred.csv', y_pred, delimiter=',')\n",
    "\n",
    "        res =model.predict(samples)\n",
    "        res = res[:,0]\n",
    "        mesFixed, _ = calcMes(y_test, y_pred, True)\n",
    "        mesFixed.insert(0, SeT)\n",
    "        mesFixed.insert(1, foldCounter)\n",
    "        mesListFixed.append(\n",
    "            mesFixed\n",
    "        )\n",
    "        np.savetxt(rootDirSaveMes + 'fixed.csv', mesListFixed, delimiter=',', fmt='%s')\n",
    "        \n",
    "        mesFloating, optimalTR = calcMes(y_test, y_pred, False)\n",
    "        mesFloating.insert(0, SeT)\n",
    "        mesFloating.insert(1, foldCounter)\n",
    "        mesFloating.append(optimalTR)\n",
    "        mesListFloating.append(\n",
    "            mesFloating\n",
    "        )\n",
    "        np.savetxt(rootDirSaveMes + 'floating.csv', mesListFloating, delimiter=',', fmt='%s')\n",
    "\n",
    "        tempDrugList = []\n",
    "        for i in range(len(res)):\n",
    "            if res[i] > sum(res) / len(res):\n",
    "                tempDrugList.append(\n",
    "                    [\n",
    "                        drugNames[i], res[i]\n",
    "                    ]\n",
    "                )\n",
    "\n",
    "        # res = res[:,0]\n",
    "        if len(tempDrugList) > 0:\n",
    "            tempDrugList = np.array(tempDrugList)\n",
    "            tempDrugList = tempDrugList[tempDrugList[:, 1].argsort()[::-1]]\n",
    "            for dns in range(len(tempDrugList)):\n",
    "                tempDN = tempDrugList[dns][0]\n",
    "                tempDNS = [SeT, foldCounter, dns, tempDrugList[dns][1]]\n",
    "    \n",
    "                drugNamesSet[tempDN].append(tempDNS)\n",
    "    \n",
    "    \n",
    "            for key in drugNamesSet.keys():\n",
    "                if len(drugNamesSet[key]) > 0:\n",
    "                    np.savetxt(rootDirSaveReper + key + '.csv', drugNamesSet[key], delimiter=',', fmt='%s')\n",
    "\n",
    "        # np.savetxt(rootDirSaveReper + str(foldCounter) + '.csv', tempDrugList, delimiter=',', fmt='%s')\n",
    "\n",
    "        foldCounter += 1\n",
    "        "
   ]
  },
  {
   "cell_type": "code",
   "execution_count": 19,
   "id": "f066c90c-6f7a-4685-9687-60d5115e9fa2",
   "metadata": {
    "scrolled": true
   },
   "outputs": [],
   "source": [
    "filenames = []\n",
    "for filename in glob(rootDirSaveReper + '*.csv', recursive=True):\n",
    "    filenames.append(filename) \n",
    "# filenames = glob2.glob(\"/*.csv\")\n",
    "preDrugs = []\n",
    "for i in range(len(filenames)):\n",
    "    preDrugs.append(filenames[i].split('\\\\')[1].split('.')[0])\n",
    "meanScore = []\n",
    "for i in range(len(filenames)):\n",
    "    sumL = 0\n",
    "    lenL = 0\n",
    "    index = pd.read_csv(filenames[i], delimiter = ',', header = None).to_numpy()[:, :3]\n",
    "    for counter in range(len(index)):\n",
    "        # if index[counter][0] != 29:\n",
    "        sumL += index[counter][2]\n",
    "        lenL += 1\n",
    "    avg = sumL / lenL\n",
    "    meanScore.append(\n",
    "        [\n",
    "            preDrugs[i],\n",
    "            avg\n",
    "        ]\n",
    "    )\n",
    "\n",
    "np.savetxt(rootDirSaveMes + 'meanScoreDrug.csv', meanScore, delimiter=',', fmt='%s')"
   ]
  },
  {
   "cell_type": "code",
   "execution_count": null,
   "id": "747e5b52-7d0b-4bde-916d-7813fda51e43",
   "metadata": {},
   "outputs": [],
   "source": []
  }
 ],
 "metadata": {
  "kernelspec": {
   "display_name": "Python 3 (ipykernel)",
   "language": "python",
   "name": "python3"
  },
  "language_info": {
   "codemirror_mode": {
    "name": "ipython",
    "version": 3
   },
   "file_extension": ".py",
   "mimetype": "text/x-python",
   "name": "python",
   "nbconvert_exporter": "python",
   "pygments_lexer": "ipython3",
   "version": "3.11.5"
  }
 },
 "nbformat": 4,
 "nbformat_minor": 5
}
